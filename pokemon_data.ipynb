{
 "cells": [
  {
   "cell_type": "code",
   "execution_count": 1,
   "metadata": {
    "collapsed": false
   },
   "outputs": [
    {
     "name": "stderr",
     "output_type": "stream",
     "text": [
      "/Users/chiraag/anaconda/lib/python2.7/site-packages/openpyxl/workbook/names/named_range.py:124: UserWarning: Discarded range with reserved name\n",
      "  warnings.warn(\"Discarded range with reserved name\")\n"
     ]
    }
   ],
   "source": [
    "from openpyxl import load_workbook\n",
    "wb = load_workbook(filename = 'game_data/kukui.xlsx')"
   ]
  },
  {
   "cell_type": "code",
   "execution_count": 2,
   "metadata": {
    "collapsed": false
   },
   "outputs": [],
   "source": [
    "class BasicMove(object):\n",
    "    def __init__(self, row):\n",
    "        self.mid = int(row[0].value)\n",
    "        self.name = row[1].value\n",
    "        self.ptype = row[2].value\n",
    "        self.power = int(row[3].value)\n",
    "        self.stamina_loss_scalar = row[4].value\n",
    "        self.duration = int(row[5].value) # in ms\n",
    "        self.damage_window = int(row[6].value) # in ms\n",
    "        self.energy = int(row[7].value)\n",
    "        self.eps = row[8].value\n",
    "        self.dps = row[9].value\n",
    "        \n",
    "    def __str__(self):\n",
    "        return '%d %s: %d %d %d %.2g %.2g (%s)' % (self.mid, self.name, self.power, \\\n",
    "                self.duration, self.energy, self.eps, self.dps, self.ptype)\n",
    "\n",
    "sheet = wb.get_sheet_by_name('Basic Moves')\n",
    "basic_moves = { row[1].value: BasicMove(row) for i, row in enumerate(sheet.iter_rows()) if 0 < i < 43}\n",
    "# for m in basic_moves:\n",
    "#    print basic_moves[m]"
   ]
  },
  {
   "cell_type": "code",
   "execution_count": 3,
   "metadata": {
    "collapsed": false
   },
   "outputs": [],
   "source": [
    "class ChargedMove(object):\n",
    "    def __init__(self, row):\n",
    "        self.mid = int(row[0].value)\n",
    "        self.name = row[1].value\n",
    "        self.ptype = row[2].value\n",
    "        self.power = int(row[3].value)\n",
    "        self.stamina_loss_scalar = row[4].value\n",
    "        self.heal_scalar = row[5].value\n",
    "        self.duration = int(row[6].value) # in ms\n",
    "        self.dodge_window = int(row[7].value) # in ms\n",
    "        self.crit = row[8].value\n",
    "        self.cost = int(row[9].value)\n",
    "        \n",
    "    def __str__(self):\n",
    "        return '%d %s: %d %d %d %d %.2g (%s)' % (self.mid, self.name, self.power, \\\n",
    "                self.duration, self.dodge_window, self.cost, self.crit, self.ptype)\n",
    "\n",
    "sheet = wb.get_sheet_by_name('Charged Moves')\n",
    "charged_moves = { row[1].value: ChargedMove(row) for i, row in enumerate(sheet.iter_rows()) if 0 < i < 96}\n",
    "\n",
    "# for m in charged_moves:\n",
    "#    print charged_moves[m]"
   ]
  },
  {
   "cell_type": "code",
   "execution_count": 4,
   "metadata": {
    "collapsed": false
   },
   "outputs": [],
   "source": [
    "class Species(object):\n",
    "    def __init__(self, row):\n",
    "        self.name = row[0].value\n",
    "        self.pid = int(row[1].value)\n",
    "        self.hp_ratio = int(row[2].value)\n",
    "        self.attack_ratio = int(row[3].value)\n",
    "        self.defense_ratio = int(row[4].value)\n",
    "        # self.cp_limits = [int(row[5].value), int(row[6].value)]\n",
    "        self.ptypes = []\n",
    "        self.family = self.name\n",
    "        self.evolutions = {}\n",
    "        \n",
    "    def __str__(self):\n",
    "        return '%03d %s: %d %d %d' % (self.pid, self.name, self.hp_ratio, \\\n",
    "                self.attack_ratio, self.defense_ratio)\n",
    "    \n",
    "sheet = wb.get_sheet_by_name('Species Data')\n",
    "species = { row[0].value: Species(row) for i, row in enumerate(sheet.iter_rows()) if 0 < i < 152}\n",
    "\n",
    "sheet = wb.get_sheet_by_name('Showing Work')\n",
    "for i, row in enumerate(sheet.iter_rows()):\n",
    "    if 0 < i < 896:\n",
    "        species[row[6].value].ptypes = [row[col].value for col in [7, 8] if row[col].value is not None]\n",
    "\n",
    "# print species['Pidgeot'].ptypes\n",
    "# for s in species:\n",
    "#   print species[s]"
   ]
  },
  {
   "cell_type": "code",
   "execution_count": 5,
   "metadata": {
    "collapsed": true
   },
   "outputs": [],
   "source": [
    "class Pokemon(object):\n",
    "    def __init__(self):\n",
    "        self.name = None\n",
    "        self.cp = 0\n",
    "        self.hp = 0\n",
    "        self.powerup_dust = 0\n",
    "        self.species = None\n",
    "        self.level = 0\n",
    "        self.iv = (0,0,0)\n",
    "        self.basic_move = None\n",
    "        self.charged_move = None"
   ]
  },
  {
   "cell_type": "code",
   "execution_count": 6,
   "metadata": {
    "collapsed": false
   },
   "outputs": [],
   "source": [
    "wb = load_workbook(filename = 'game_data/evolution.xlsx')\n",
    "for row in wb.active.iter_rows():\n",
    "    sp_from = row[1].value\n",
    "    candy, rest = row[2].value.split(' ', 1)\n",
    "    candy = int(candy)\n",
    "    sp_base = rest.split(' Candy')[0]\n",
    "    sp_to = row[4].value\n",
    "    species[sp_from].evolutions[sp_to] = candy\n",
    "    species[sp_from].family = sp_base\n",
    "    species[sp_to].family = sp_base\n",
    "    # print sp_from, sp_to, candy, sp_base"
   ]
  },
  {
   "cell_type": "code",
   "execution_count": 7,
   "metadata": {
    "collapsed": false
   },
   "outputs": [],
   "source": [
    "import numpy as np\n",
    "cpm = np.array([ 0.094     ,  0.16639787,  0.21573247,  0.25572005,  0.29024988,\n",
    "        0.3210876 ,  0.34921268,  0.37523559,  0.39956728,  0.42250001,\n",
    "        0.44310755,  0.46279839,  0.48168495,  0.49985844,  0.51739395,\n",
    "        0.53435433,  0.55079269,  0.56675452,  0.58227891,  0.59740001,\n",
    "        0.61215729,  0.62656713,  0.64065295,  0.65443563,  0.667934  ,\n",
    "        0.68116492,  0.69414365,  0.70688421,  0.71939909,  0.7317    ,\n",
    "        0.73776948,  0.74378943,  0.74976104,  0.75568551,  0.76156384,\n",
    "        0.76739717,  0.7731865 ,  0.77893275,  0.78463697,  0.79030001])"
   ]
  }
 ],
 "metadata": {
  "kernelspec": {
   "display_name": "Python 2",
   "language": "python",
   "name": "python2"
  },
  "language_info": {
   "codemirror_mode": {
    "name": "ipython",
    "version": 2
   },
   "file_extension": ".py",
   "mimetype": "text/x-python",
   "name": "python",
   "nbconvert_exporter": "python",
   "pygments_lexer": "ipython2",
   "version": "2.7.12"
  }
 },
 "nbformat": 4,
 "nbformat_minor": 0
}
